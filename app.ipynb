import json

my_key = 'twW6KwtrPB53YIynUBYvHrzZTBe_p_eRFvAcuKrFtt4'

from here_map_widget import Map, Marker, Point
from here_map_widget import InfoBubble
import os
import pandas as pd

data = pd.read_csv('housing.csv')
avg_lat =0
avg_lng=0
for ind in data.index:
  avg_lat+=data['latitude'][ind]
  avg_lng+=data['longitude'][ind]
avg_lat//=len(data.index)
avg_lng//=len(data.index)

center = [avg_lat,avg_lng]
m = Map(api_key=my_key, center=center, zoom=14)
  

for ind in range(100):
    
    marker = Marker(lat=data['latitude'][ind], lng=data['longitude'][ind], info= InfoBubble(position=Point(lat=data['latitude'][ind], lng=data['longitude'][ind]),content=f"<div>$ {data['median_house_value'][ind]}</div>"), evt_type="tap", show_bubble=True)
    m.add_object(marker)
print(m)
